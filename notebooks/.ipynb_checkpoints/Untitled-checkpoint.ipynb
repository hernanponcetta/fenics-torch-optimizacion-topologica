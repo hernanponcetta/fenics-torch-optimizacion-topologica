{
 "cells": [
  {
   "cell_type": "code",
   "execution_count": 17,
   "metadata": {},
   "outputs": [],
   "source": [
    "from fenics import *\n",
    "import matplotlib.pyplot as plt"
   ]
  },
  {
   "cell_type": "code",
   "execution_count": 24,
   "metadata": {},
   "outputs": [],
   "source": [
    "mesh = RectangleMesh(Point(0,0), Point(1, 1), 10, 10, \"right/left\")"
   ]
  },
  {
   "cell_type": "code",
   "execution_count": 25,
   "metadata": {},
   "outputs": [
    {
     "data": {
      "text/plain": [
       "[<matplotlib.lines.Line2D at 0x7f8a938d1860>,\n",
       " <matplotlib.lines.Line2D at 0x7f8a938d19b0>]"
      ]
     },
     "execution_count": 25,
     "metadata": {},
     "output_type": "execute_result"
    },
    {
     "data": {
      "image/png": "[encoded data removed]",
      "text/plain": [
       "<Figure size 432x288 with 1 Axes>"
      ]
     },
     "metadata": {
      "needs_background": "light"
     },
     "output_type": "display_data"
    }
   ],
   "source": [
    "plot(mesh)"
   ]
  },
  {
   "cell_type": "code",
   "execution_count": 26,
   "metadata": {},
   "outputs": [],
   "source": [
    "D = FunctionSpace(mesh, \"DG\", 0)"
   ]
  },
  {
   "cell_type": "code",
   "execution_count": 27,
   "metadata": {},
   "outputs": [
    {
     "name": "stdout",
     "output_type": "stream",
     "text": [
      "Help on FunctionSpace in module dolfin.function.functionspace object:\n",
      "\n",
      "class FunctionSpace(ufl.functionspace.FunctionSpace)\n",
      " |  Method resolution order:\n",
      " |      FunctionSpace\n",
      " |      ufl.functionspace.FunctionSpace\n",
      " |      ufl.functionspace.AbstractFunctionSpace\n",
      " |      builtins.object\n",
      " |  \n",
      " |  Methods defined here:\n",
      " |  \n",
      " |  __contains__(self, u)\n",
      " |      Check whether a function is in the FunctionSpace\n",
      " |  \n",
      " |  __eq__(self, other)\n",
      " |      Comparison for equality.\n",
      " |  \n",
      " |  __init__(self, *args, **kwargs)\n",
      " |      Create finite element function space.\n",
      " |  \n",
      " |  __ne__(self, other)\n",
      " |      Comparison for inequality.\n",
      " |  \n",
      " |  collapse(self, collapsed_dofs=False)\n",
      " |      Collapse a subspace and return a new function space and a map from\n",
      " |       new to old dofs\n",
      " |      \n",
      " |       *Arguments*\n",
      " |           collapsed_dofs (bool)\n",
      " |               Return the map from new to old dofs\n",
      " |      \n",
      " |      *Returns*\n",
      " |          _FunctionSpace_\n",
      " |               The new function space.\n",
      " |          dict\n",
      " |               The map from new to old dofs (optional)\n",
      " |  \n",
      " |  component(self)\n",
      " |  \n",
      " |  contains(self, V)\n",
      " |      Check whether a function is in the FunctionSpace\n",
      " |  \n",
      " |  dim(self)\n",
      " |  \n",
      " |  dofmap(self)\n",
      " |  \n",
      " |  dolfin_element(self)\n",
      " |      Return the DOLFIN element.\n",
      " |  \n",
      " |  element(self)\n",
      " |  \n",
      " |  extract_sub_space(self, component)\n",
      " |  \n",
      " |  id(self)\n",
      " |  \n",
      " |  mesh(self)\n",
      " |  \n",
      " |  num_sub_spaces(self)\n",
      " |      Return the number of sub spaces\n",
      " |  \n",
      " |  set_x(self, basis, x, component)\n",
      " |  \n",
      " |  split(self)\n",
      " |      Split a mixed functionspace into its sub spaces\n",
      " |  \n",
      " |  sub(self, i)\n",
      " |      Return the i-th sub space\n",
      " |  \n",
      " |  tabulate_dof_coordinates(self)\n",
      " |  \n",
      " |  ufl_cell(self)\n",
      " |  \n",
      " |  ufl_function_space(self)\n",
      " |  \n",
      " |  ----------------------------------------------------------------------\n",
      " |  Data and other attributes defined here:\n",
      " |  \n",
      " |  __hash__ = None\n",
      " |  \n",
      " |  ----------------------------------------------------------------------\n",
      " |  Methods inherited from ufl.functionspace.FunctionSpace:\n",
      " |  \n",
      " |  __repr__(self)\n",
      " |      Return repr(self).\n",
      " |  \n",
      " |  ufl_domain(self)\n",
      " |      Return ufl domain.\n",
      " |  \n",
      " |  ufl_domains(self)\n",
      " |      Return ufl domains.\n",
      " |  \n",
      " |  ufl_element(self)\n",
      " |      Return ufl element.\n",
      " |  \n",
      " |  ufl_sub_spaces(self)\n",
      " |      Return ufl sub spaces.\n",
      " |  \n",
      " |  ----------------------------------------------------------------------\n",
      " |  Data descriptors inherited from ufl.functionspace.AbstractFunctionSpace:\n",
      " |  \n",
      " |  __dict__\n",
      " |      dictionary for instance variables (if defined)\n",
      " |  \n",
      " |  __weakref__\n",
      " |      list of weak references to the object (if defined)\n",
      "\n"
     ]
    }
   ],
   "source": [
    "help(D)"
   ]
  },
  {
   "cell_type": "code",
   "execution_count": 28,
   "metadata": {},
   "outputs": [],
   "source": [
    "points = D.tabulate_dof_coordinates()"
   ]
  },
  {
   "cell_type": "code",
   "execution_count": 29,
   "metadata": {},
   "outputs": [
    {
     "data": {
      "text/plain": [
       "<matplotlib.collections.PathCollection at 0x7f8a9354f358>"
      ]
     },
     "execution_count": 29,
     "metadata": {},
     "output_type": "execute_result"
    },
    {
     "data": {
      "image/png": "[encoded data removed]",
      "text/plain": [
       "<Figure size 432x288 with 1 Axes>"
      ]
     },
     "metadata": {
      "needs_background": "light"
     },
     "output_type": "display_data"
    }
   ],
   "source": [
    "plt.scatter(points[:,0], points[:,1])"
   ]
  },
  {
   "cell_type": "code",
   "execution_count": 31,
   "metadata": {},
   "outputs": [
    {
     "name": "stdout",
     "output_type": "stream",
     "text": [
      "Help on RectangleMesh in module dolfin.cpp.generation object:\n",
      "\n",
      "class RectangleMesh(dolfin.cpp.mesh.Mesh)\n",
      " |  DOLFIN Mesh object\n",
      " |  \n",
      " |  Method resolution order:\n",
      " |      RectangleMesh\n",
      " |      dolfin.cpp.mesh.Mesh\n",
      " |      dolfin.cpp.common.Variable\n",
      " |      pybind11_builtins.pybind11_object\n",
      " |      builtins.object\n",
      " |  \n",
      " |  Methods defined here:\n",
      " |  \n",
      " |  __init__(...)\n",
      " |      __init__(*args, **kwargs)\n",
      " |      Overloaded function.\n",
      " |      \n",
      " |      1. __init__(self: dolfin.cpp.generation.RectangleMesh, p0: dolfin::Point, p1: dolfin::Point, nx: int, ny: int, diagonal: str = 'right') -> None\n",
      " |      \n",
      " |      2. __init__(self: dolfin.cpp.generation.RectangleMesh, comm: MPICommWrapper, p0: dolfin::Point, p1: dolfin::Point, nx: int, ny: int, diagonal: str = 'right') -> None\n",
      " |  \n",
      " |  ----------------------------------------------------------------------\n",
      " |  Static methods defined here:\n",
      " |  \n",
      " |  create(...) from builtins.PyCapsule\n",
      " |      create(*args, **kwargs)\n",
      " |      Overloaded function.\n",
      " |      \n",
      " |      1. create(p: List[dolfin::Point[2]], n: List[int[2]], cell_type: dolfin.cpp.mesh.CellType.Type, diagonal: str = 'right') -> dolfin.cpp.mesh.Mesh\n",
      " |      \n",
      " |      2. create(comm: MPICommWrapper, p: List[dolfin::Point[2]], n: List[int[2]], cell_type: dolfin.cpp.mesh.CellType.Type, diagonal: str = 'right') -> dolfin.cpp.mesh.Mesh\n",
      " |  \n",
      " |  ----------------------------------------------------------------------\n",
      " |  Data descriptors defined here:\n",
      " |  \n",
      " |  __dict__\n",
      " |  \n",
      " |  ----------------------------------------------------------------------\n",
      " |  Methods inherited from dolfin.cpp.mesh.Mesh:\n",
      " |  \n",
      " |  bounding_box_tree(...)\n",
      " |      bounding_box_tree(self: dolfin.cpp.mesh.Mesh) -> dolfin::BoundingBoxTree\n",
      " |  \n",
      " |  cell_name(...)\n",
      " |      cell_name(self: dolfin.cpp.mesh.Mesh) -> str\n",
      " |  \n",
      " |  cell_orientations(...)\n",
      " |      cell_orientations(self: dolfin.cpp.mesh.Mesh) -> List[int]\n",
      " |  \n",
      " |  cells(...)\n",
      " |      cells(self: dolfin.cpp.mesh.Mesh) -> array\n",
      " |  \n",
      " |  color(...)\n",
      " |      color(*args, **kwargs)\n",
      " |      Overloaded function.\n",
      " |      \n",
      " |      1. color(self: dolfin.cpp.mesh.Mesh, arg0: str) -> List[int]\n",
      " |      \n",
      " |      2. color(self: dolfin.cpp.mesh.Mesh, arg0: List[int]) -> List[int]\n",
      " |  \n",
      " |  coordinates(...)\n",
      " |      coordinates(self: dolfin.cpp.mesh.Mesh) -> numpy.ndarray[float64[m, n], flags.writeable, flags.c_contiguous]\n",
      " |  \n",
      " |  data(...)\n",
      " |      data(self: dolfin.cpp.mesh.Mesh) -> dolfin::MeshData\n",
      " |      \n",
      " |      Data associated with a mesh\n",
      " |  \n",
      " |  domains(...)\n",
      " |      domains(self: dolfin.cpp.mesh.Mesh) -> dolfin::MeshDomains\n",
      " |  \n",
      " |  geometric_dimension(self)\n",
      " |      Returns geometric dimension for ufl interface\n",
      " |  \n",
      " |  geometry(...)\n",
      " |      geometry(self: dolfin.cpp.mesh.Mesh) -> dolfin.cpp.mesh.MeshGeometry\n",
      " |      \n",
      " |      Mesh geometry\n",
      " |  \n",
      " |  hash(...)\n",
      " |      hash(self: dolfin.cpp.mesh.Mesh) -> int\n",
      " |  \n",
      " |  hmax(...)\n",
      " |      hmax(self: dolfin.cpp.mesh.Mesh) -> float\n",
      " |  \n",
      " |  hmin(...)\n",
      " |      hmin(self: dolfin.cpp.mesh.Mesh) -> float\n",
      " |  \n",
      " |  id(...)\n",
      " |      id(self: dolfin.cpp.mesh.Mesh) -> int\n",
      " |  \n",
      " |  init(...)\n",
      " |      init(*args, **kwargs)\n",
      " |      Overloaded function.\n",
      " |      \n",
      " |      1. init(self: dolfin.cpp.mesh.Mesh) -> None\n",
      " |      \n",
      " |      2. init(self: dolfin.cpp.mesh.Mesh, arg0: int) -> int\n",
      " |      \n",
      " |      3. init(self: dolfin.cpp.mesh.Mesh, arg0: int, arg1: int) -> None\n",
      " |  \n",
      " |  init_cell_orientations(...)\n",
      " |      init_cell_orientations(*args, **kwargs)\n",
      " |      Overloaded function.\n",
      " |      \n",
      " |      1. init_cell_orientations(self: dolfin.cpp.mesh.Mesh, arg0: dolfin.cpp.function.Expression) -> None\n",
      " |      \n",
      " |      2. init_cell_orientations(self: dolfin.cpp.mesh.Mesh, arg0: object) -> None\n",
      " |  \n",
      " |  init_global(...)\n",
      " |      init_global(self: dolfin.cpp.mesh.Mesh, arg0: int) -> None\n",
      " |  \n",
      " |  mpi_comm(...)\n",
      " |      mpi_comm(self: dolfin.cpp.mesh.Mesh) -> MPICommWrapper\n",
      " |  \n",
      " |  num_cells(...)\n",
      " |      num_cells(self: dolfin.cpp.mesh.Mesh) -> int\n",
      " |      \n",
      " |      Number of cells\n",
      " |  \n",
      " |  num_edges(...)\n",
      " |      num_edges(self: dolfin.cpp.mesh.Mesh) -> int\n",
      " |      \n",
      " |      Number of edges\n",
      " |  \n",
      " |  num_entities(...)\n",
      " |      num_entities(self: dolfin.cpp.mesh.Mesh, arg0: int) -> int\n",
      " |      \n",
      " |      Number of mesh entities\n",
      " |  \n",
      " |  num_entities_global(...)\n",
      " |      num_entities_global(self: dolfin.cpp.mesh.Mesh, arg0: int) -> int\n",
      " |  \n",
      " |  num_faces(...)\n",
      " |      num_faces(self: dolfin.cpp.mesh.Mesh) -> int\n",
      " |      \n",
      " |      Number of faces\n",
      " |  \n",
      " |  num_facets(...)\n",
      " |      num_facets(self: dolfin.cpp.mesh.Mesh) -> int\n",
      " |      \n",
      " |      Number of facets\n",
      " |  \n",
      " |  num_vertices(...)\n",
      " |      num_vertices(self: dolfin.cpp.mesh.Mesh) -> int\n",
      " |      \n",
      " |      Number of vertices\n",
      " |  \n",
      " |  order(...)\n",
      " |      order(self: dolfin.cpp.mesh.Mesh) -> None\n",
      " |  \n",
      " |  ordered(...)\n",
      " |      ordered(self: dolfin.cpp.mesh.Mesh) -> bool\n",
      " |  \n",
      " |  rmax(...)\n",
      " |      rmax(self: dolfin.cpp.mesh.Mesh) -> float\n",
      " |  \n",
      " |  rmin(...)\n",
      " |      rmin(self: dolfin.cpp.mesh.Mesh) -> float\n",
      " |  \n",
      " |  rotate(...)\n",
      " |      rotate(*args, **kwargs)\n",
      " |      Overloaded function.\n",
      " |      \n",
      " |      1. rotate(self: dolfin.cpp.mesh.Mesh, arg0: float, arg1: int, arg2: dolfin::Point) -> None\n",
      " |      \n",
      " |      2. rotate(self: dolfin.cpp.mesh.Mesh, angle: float, axis: int = 2) -> None\n",
      " |  \n",
      " |  scale(...)\n",
      " |      scale(self: dolfin.cpp.mesh.Mesh, arg0: float) -> None\n",
      " |  \n",
      " |  smooth(...)\n",
      " |      smooth(self: dolfin.cpp.mesh.Mesh, num_iterations: int = 1) -> None\n",
      " |  \n",
      " |  smooth_boundary(...)\n",
      " |      smooth_boundary(self: dolfin.cpp.mesh.Mesh, arg0: int, arg1: bool) -> None\n",
      " |  \n",
      " |  snap_boundary(...)\n",
      " |      snap_boundary(self: dolfin.cpp.mesh.Mesh, subdomain: dolfin::SubDomain, harmonic_smoothing: bool = True) -> None\n",
      " |  \n",
      " |  topology(...)\n",
      " |      topology(self: dolfin.cpp.mesh.Mesh) -> dolfin.cpp.mesh.MeshTopology\n",
      " |      \n",
      " |      Mesh topology\n",
      " |  \n",
      " |  translate(...)\n",
      " |      translate(self: dolfin.cpp.mesh.Mesh, arg0: dolfin::Point) -> None\n",
      " |  \n",
      " |  type(...)\n",
      " |      type(self: dolfin.cpp.mesh.Mesh) -> dolfin.cpp.mesh.CellType\n",
      " |  \n",
      " |  ufl_cell(self)\n",
      " |  \n",
      " |  ufl_coordinate_element(self)\n",
      " |      Return the finite element of the coordinate vector field of this\n",
      " |      domain.\n",
      " |  \n",
      " |  ufl_domain(self)\n",
      " |      Returns the ufl domain corresponding to the mesh.\n",
      " |  \n",
      " |  ufl_id(...)\n",
      " |      ufl_id(self: dolfin.cpp.mesh.Mesh) -> int\n",
      " |  \n",
      " |  ----------------------------------------------------------------------\n",
      " |  Methods inherited from dolfin.cpp.common.Variable:\n",
      " |  \n",
      " |  label(...)\n",
      " |      label(self: dolfin.cpp.common.Variable) -> str\n",
      " |  \n",
      " |  name(...)\n",
      " |      name(self: dolfin.cpp.common.Variable) -> str\n",
      " |  \n",
      " |  rename(...)\n",
      " |      rename(self: dolfin.cpp.common.Variable, arg0: str, arg1: str) -> None\n",
      " |  \n",
      " |  ----------------------------------------------------------------------\n",
      " |  Data descriptors inherited from dolfin.cpp.common.Variable:\n",
      " |  \n",
      " |  parameters\n",
      " |  \n",
      " |  ----------------------------------------------------------------------\n",
      " |  Methods inherited from pybind11_builtins.pybind11_object:\n",
      " |  \n",
      " |  __new__(*args, **kwargs) from pybind11_builtins.pybind11_type\n",
      " |      Create and return a new object.  See help(type) for accurate signature.\n",
      "\n"
     ]
    }
   ],
   "source": [
    "help(mesh)"
   ]
  },
  {
   "cell_type": "code",
   "execution_count": 34,
   "metadata": {},
   "outputs": [],
   "source": [
    "nodes = mesh.coordinates()"
   ]
  },
  {
   "cell_type": "code",
   "execution_count": 35,
   "metadata": {},
   "outputs": [
    {
     "data": {
      "text/plain": [
       "<matplotlib.collections.PathCollection at 0x7f8a936d0860>"
      ]
     },
     "execution_count": 35,
     "metadata": {},
     "output_type": "execute_result"
    },
    {
     "data": {
      "image/png": "[encoded data removed]",
      "text/plain": [
       "<Figure size 432x288 with 1 Axes>"
      ]
     },
     "metadata": {
      "needs_background": "light"
     },
     "output_type": "display_data"
    }
   ],
   "source": [
    "plt.scatter(points[:,0], points[:,1])\n",
    "plt.scatter(nodes[:,0], nodes[:,1])"
   ]
  },
  {
   "cell_type": "code",
   "execution_count": 46,
   "metadata": {},
   "outputs": [
    {
     "ename": "AttributeError",
     "evalue": "module 'matplotlib.pyplot' has no attribute 'fig'",
     "output_type": "error",
     "traceback": [
      "\u001b[0;31m---------------------------------------------------------------------------\u001b[0m",
      "\u001b[0;31mAttributeError\u001b[0m                            Traceback (most recent call last)",
      "\u001b[0;32m<ipython-input-46-abb357ede83e>\u001b[0m in \u001b[0;36m<module>\u001b[0;34m\u001b[0m\n\u001b[0;32m----> 1\u001b[0;31m \u001b[0mplt\u001b[0m\u001b[0;34m.\u001b[0m\u001b[0mfig\u001b[0m\u001b[0;34m(\u001b[0m\u001b[0;36m10\u001b[0m\u001b[0;34m,\u001b[0m \u001b[0;36m10\u001b[0m\u001b[0;34m)\u001b[0m\u001b[0;34m\u001b[0m\u001b[0;34m\u001b[0m\u001b[0m\n\u001b[0m\u001b[1;32m      2\u001b[0m \u001b[0mplt\u001b[0m\u001b[0;34m.\u001b[0m\u001b[0mtriplot\u001b[0m\u001b[0;34m(\u001b[0m\u001b[0mnodes\u001b[0m\u001b[0;34m[\u001b[0m\u001b[0;34m:\u001b[0m\u001b[0;34m,\u001b[0m\u001b[0;36m0\u001b[0m\u001b[0;34m]\u001b[0m\u001b[0;34m,\u001b[0m \u001b[0mnodes\u001b[0m\u001b[0;34m[\u001b[0m\u001b[0;34m:\u001b[0m\u001b[0;34m,\u001b[0m\u001b[0;36m1\u001b[0m\u001b[0;34m]\u001b[0m\u001b[0;34m)\u001b[0m\u001b[0;34m\u001b[0m\u001b[0;34m\u001b[0m\u001b[0m\n\u001b[1;32m      3\u001b[0m \u001b[0mplt\u001b[0m\u001b[0;34m.\u001b[0m\u001b[0mscatter\u001b[0m\u001b[0;34m(\u001b[0m\u001b[0mpoints\u001b[0m\u001b[0;34m[\u001b[0m\u001b[0;34m:\u001b[0m\u001b[0;34m,\u001b[0m\u001b[0;36m0\u001b[0m\u001b[0;34m]\u001b[0m\u001b[0;34m,\u001b[0m \u001b[0mpoints\u001b[0m\u001b[0;34m[\u001b[0m\u001b[0;34m:\u001b[0m\u001b[0;34m,\u001b[0m\u001b[0;36m1\u001b[0m\u001b[0;34m]\u001b[0m\u001b[0;34m)\u001b[0m\u001b[0;34m\u001b[0m\u001b[0;34m\u001b[0m\u001b[0m\n\u001b[1;32m      4\u001b[0m \u001b[0mplt\u001b[0m\u001b[0;34m.\u001b[0m\u001b[0mscatter\u001b[0m\u001b[0;34m(\u001b[0m\u001b[0mnodes\u001b[0m\u001b[0;34m[\u001b[0m\u001b[0;34m:\u001b[0m\u001b[0;34m,\u001b[0m\u001b[0;36m0\u001b[0m\u001b[0;34m]\u001b[0m\u001b[0;34m,\u001b[0m \u001b[0mnodes\u001b[0m\u001b[0;34m[\u001b[0m\u001b[0;34m:\u001b[0m\u001b[0;34m,\u001b[0m\u001b[0;36m1\u001b[0m\u001b[0;34m]\u001b[0m\u001b[0;34m)\u001b[0m\u001b[0;34m\u001b[0m\u001b[0;34m\u001b[0m\u001b[0m\n",
      "\u001b[0;31mAttributeError\u001b[0m: module 'matplotlib.pyplot' has no attribute 'fig'"
     ]
    }
   ],
   "source": [
    "plt.triplot(nodes[:,0], nodes[:,1])\n",
    "plt.scatter(points[:,0], points[:,1])\n",
    "plt.scatter(nodes[:,0], nodes[:,1])"
   ]
  },
  {
   "cell_type": "code",
   "execution_count": null,
   "metadata": {},
   "outputs": [],
   "source": []
  }
 ],
 "metadata": {
  "kernelspec": {
   "display_name": "Python 3",
   "language": "python",
   "name": "python3"
  },
  "language_info": {
   "codemirror_mode": {
    "name": "ipython",
    "version": 3
   },
   "file_extension": ".py",
   "mimetype": "text/x-python",
   "name": "python",
   "nbconvert_exporter": "python",
   "pygments_lexer": "ipython3",
   "version": "3.6.9"
  }
 },
 "nbformat": 4,
 "nbformat_minor": 4
}
