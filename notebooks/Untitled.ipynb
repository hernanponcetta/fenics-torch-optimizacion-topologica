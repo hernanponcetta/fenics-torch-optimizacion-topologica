{
 "cells": [
  {
   "cell_type": "code",
   "execution_count": 59,
   "metadata": {},
   "outputs": [],
   "source": [
    "from fenics import *\n",
    "import matplotlib.pyplot as plt"
   ]
  },
  {
   "cell_type": "code",
   "execution_count": 76,
   "metadata": {},
   "outputs": [],
   "source": [
    "mesh = RectangleMesh(Point(0,0), Point(1, 1), 2, 2, \"right/left\")"
   ]
  },
  {
   "cell_type": "code",
   "execution_count": 77,
   "metadata": {},
   "outputs": [
    {
     "data": {
      "text/plain": [
       "[<matplotlib.lines.Line2D at 0x7f8a92ee9828>,\n",
       " <matplotlib.lines.Line2D at 0x7f8a92b2b6a0>]"
      ]
     },
     "execution_count": 77,
     "metadata": {},
     "output_type": "execute_result"
    },
    {
     "data": {
      "image/png": "[encoded data removed]",
      "text/plain": [
       "<Figure size 432x288 with 1 Axes>"
      ]
     },
     "metadata": {
      "needs_background": "light"
     },
     "output_type": "display_data"
    }
   ],
   "source": [
    "plot(mesh)"
   ]
  },
  {
   "cell_type": "code",
   "execution_count": 78,
   "metadata": {},
   "outputs": [],
   "source": [
    "D = FunctionSpace(mesh, \"DG\", 0)"
   ]
  },
  {
   "cell_type": "code",
   "execution_count": 79,
   "metadata": {},
   "outputs": [
    {
     "name": "stdout",
     "output_type": "stream",
     "text": [
      "Help on FunctionSpace in module dolfin.function.functionspace object:\n",
      "\n",
      "class FunctionSpace(ufl.functionspace.FunctionSpace)\n",
      " |  Method resolution order:\n",
      " |      FunctionSpace\n",
      " |      ufl.functionspace.FunctionSpace\n",
      " |      ufl.functionspace.AbstractFunctionSpace\n",
      " |      builtins.object\n",
      " |  \n",
      " |  Methods defined here:\n",
      " |  \n",
      " |  __contains__(self, u)\n",
      " |      Check whether a function is in the FunctionSpace\n",
      " |  \n",
      " |  __eq__(self, other)\n",
      " |      Comparison for equality.\n",
      " |  \n",
      " |  __init__(self, *args, **kwargs)\n",
      " |      Create finite element function space.\n",
      " |  \n",
      " |  __ne__(self, other)\n",
      " |      Comparison for inequality.\n",
      " |  \n",
      " |  collapse(self, collapsed_dofs=False)\n",
      " |      Collapse a subspace and return a new function space and a map from\n",
      " |       new to old dofs\n",
      " |      \n",
      " |       *Arguments*\n",
      " |           collapsed_dofs (bool)\n",
      " |               Return the map from new to old dofs\n",
      " |      \n",
      " |      *Returns*\n",
      " |          _FunctionSpace_\n",
      " |               The new function space.\n",
      " |          dict\n",
      " |               The map from new to old dofs (optional)\n",
      " |  \n",
      " |  component(self)\n",
      " |  \n",
      " |  contains(self, V)\n",
      " |      Check whether a function is in the FunctionSpace\n",
      " |  \n",
      " |  dim(self)\n",
      " |  \n",
      " |  dofmap(self)\n",
      " |  \n",
      " |  dolfin_element(self)\n",
      " |      Return the DOLFIN element.\n",
      " |  \n",
      " |  element(self)\n",
      " |  \n",
      " |  extract_sub_space(self, component)\n",
      " |  \n",
      " |  id(self)\n",
      " |  \n",
      " |  mesh(self)\n",
      " |  \n",
      " |  num_sub_spaces(self)\n",
      " |      Return the number of sub spaces\n",
      " |  \n",
      " |  set_x(self, basis, x, component)\n",
      " |  \n",
      " |  split(self)\n",
      " |      Split a mixed functionspace into its sub spaces\n",
      " |  \n",
      " |  sub(self, i)\n",
      " |      Return the i-th sub space\n",
      " |  \n",
      " |  tabulate_dof_coordinates(self)\n",
      " |  \n",
      " |  ufl_cell(self)\n",
      " |  \n",
      " |  ufl_function_space(self)\n",
      " |  \n",
      " |  ----------------------------------------------------------------------\n",
      " |  Data and other attributes defined here:\n",
      " |  \n",
      " |  __hash__ = None\n",
      " |  \n",
      " |  ----------------------------------------------------------------------\n",
      " |  Methods inherited from ufl.functionspace.FunctionSpace:\n",
      " |  \n",
      " |  __repr__(self)\n",
      " |      Return repr(self).\n",
      " |  \n",
      " |  ufl_domain(self)\n",
      " |      Return ufl domain.\n",
      " |  \n",
      " |  ufl_domains(self)\n",
      " |      Return ufl domains.\n",
      " |  \n",
      " |  ufl_element(self)\n",
      " |      Return ufl element.\n",
      " |  \n",
      " |  ufl_sub_spaces(self)\n",
      " |      Return ufl sub spaces.\n",
      " |  \n",
      " |  ----------------------------------------------------------------------\n",
      " |  Data descriptors inherited from ufl.functionspace.AbstractFunctionSpace:\n",
      " |  \n",
      " |  __dict__\n",
      " |      dictionary for instance variables (if defined)\n",
      " |  \n",
      " |  __weakref__\n",
      " |      list of weak references to the object (if defined)\n",
      "\n"
     ]
    }
   ],
   "source": [
    "help(D)"
   ]
  },
  {
   "cell_type": "code",
   "execution_count": 83,
   "metadata": {},
   "outputs": [],
   "source": [
    "points = D.tabulate_dof_coordinates()"
   ]
  },
  {
   "cell_type": "code",
   "execution_count": 84,
   "metadata": {},
   "outputs": [
    {
     "data": {
      "text/plain": [
       "<matplotlib.collections.PathCollection at 0x7f8a926f9a90>"
      ]
     },
     "execution_count": 84,
     "metadata": {},
     "output_type": "execute_result"
    },
    {
     "data": {
      "image/png": "[encoded data removed]",
      "text/plain": [
       "<Figure size 432x288 with 1 Axes>"
      ]
     },
     "metadata": {
      "needs_background": "light"
     },
     "output_type": "display_data"
    }
   ],
   "source": [
    "plt.scatter(points[:,0], points[:,1])"
   ]
  },
  {
   "cell_type": "code",
   "execution_count": 66,
   "metadata": {},
   "outputs": [
    {
     "name": "stdout",
     "output_type": "stream",
     "text": [
      "Help on RectangleMesh in module dolfin.cpp.generation object:\n",
      "\n",
      "class RectangleMesh(dolfin.cpp.mesh.Mesh)\n",
      " |  DOLFIN Mesh object\n",
      " |  \n",
      " |  Method resolution order:\n",
      " |      RectangleMesh\n",
      " |      dolfin.cpp.mesh.Mesh\n",
      " |      dolfin.cpp.common.Variable\n",
      " |      pybind11_builtins.pybind11_object\n",
      " |      builtins.object\n",
      " |  \n",
      " |  Methods defined here:\n",
      " |  \n",
      " |  __init__(...)\n",
      " |      __init__(*args, **kwargs)\n",
      " |      Overloaded function.\n",
      " |      \n",
      " |      1. __init__(self: dolfin.cpp.generation.RectangleMesh, p0: dolfin::Point, p1: dolfin::Point, nx: int, ny: int, diagonal: str = 'right') -> None\n",
      " |      \n",
      " |      2. __init__(self: dolfin.cpp.generation.RectangleMesh, comm: MPICommWrapper, p0: dolfin::Point, p1: dolfin::Point, nx: int, ny: int, diagonal: str = 'right') -> None\n",
      " |  \n",
      " |  ----------------------------------------------------------------------\n",
      " |  Static methods defined here:\n",
      " |  \n",
      " |  create(...) from builtins.PyCapsule\n",
      " |      create(*args, **kwargs)\n",
      " |      Overloaded function.\n",
      " |      \n",
      " |      1. create(p: List[dolfin::Point[2]], n: List[int[2]], cell_type: dolfin.cpp.mesh.CellType.Type, diagonal: str = 'right') -> dolfin.cpp.mesh.Mesh\n",
      " |      \n",
      " |      2. create(comm: MPICommWrapper, p: List[dolfin::Point[2]], n: List[int[2]], cell_type: dolfin.cpp.mesh.CellType.Type, diagonal: str = 'right') -> dolfin.cpp.mesh.Mesh\n",
      " |  \n",
      " |  ----------------------------------------------------------------------\n",
      " |  Data descriptors defined here:\n",
      " |  \n",
      " |  __dict__\n",
      " |  \n",
      " |  ----------------------------------------------------------------------\n",
      " |  Methods inherited from dolfin.cpp.mesh.Mesh:\n",
      " |  \n",
      " |  bounding_box_tree(...)\n",
      " |      bounding_box_tree(self: dolfin.cpp.mesh.Mesh) -> dolfin::BoundingBoxTree\n",
      " |  \n",
      " |  cell_name(...)\n",
      " |      cell_name(self: dolfin.cpp.mesh.Mesh) -> str\n",
      " |  \n",
      " |  cell_orientations(...)\n",
      " |      cell_orientations(self: dolfin.cpp.mesh.Mesh) -> List[int]\n",
      " |  \n",
      " |  cells(...)\n",
      " |      cells(self: dolfin.cpp.mesh.Mesh) -> array\n",
      " |  \n",
      " |  color(...)\n",
      " |      color(*args, **kwargs)\n",
      " |      Overloaded function.\n",
      " |      \n",
      " |      1. color(self: dolfin.cpp.mesh.Mesh, arg0: str) -> List[int]\n",
      " |      \n",
      " |      2. color(self: dolfin.cpp.mesh.Mesh, arg0: List[int]) -> List[int]\n",
      " |  \n",
      " |  coordinates(...)\n",
      " |      coordinates(self: dolfin.cpp.mesh.Mesh) -> numpy.ndarray[float64[m, n], flags.writeable, flags.c_contiguous]\n",
      " |  \n",
      " |  data(...)\n",
      " |      data(self: dolfin.cpp.mesh.Mesh) -> dolfin::MeshData\n",
      " |      \n",
      " |      Data associated with a mesh\n",
      " |  \n",
      " |  domains(...)\n",
      " |      domains(self: dolfin.cpp.mesh.Mesh) -> dolfin::MeshDomains\n",
      " |  \n",
      " |  geometric_dimension(self)\n",
      " |      Returns geometric dimension for ufl interface\n",
      " |  \n",
      " |  geometry(...)\n",
      " |      geometry(self: dolfin.cpp.mesh.Mesh) -> dolfin.cpp.mesh.MeshGeometry\n",
      " |      \n",
      " |      Mesh geometry\n",
      " |  \n",
      " |  hash(...)\n",
      " |      hash(self: dolfin.cpp.mesh.Mesh) -> int\n",
      " |  \n",
      " |  hmax(...)\n",
      " |      hmax(self: dolfin.cpp.mesh.Mesh) -> float\n",
      " |  \n",
      " |  hmin(...)\n",
      " |      hmin(self: dolfin.cpp.mesh.Mesh) -> float\n",
      " |  \n",
      " |  id(...)\n",
      " |      id(self: dolfin.cpp.mesh.Mesh) -> int\n",
      " |  \n",
      " |  init(...)\n",
      " |      init(*args, **kwargs)\n",
      " |      Overloaded function.\n",
      " |      \n",
      " |      1. init(self: dolfin.cpp.mesh.Mesh) -> None\n",
      " |      \n",
      " |      2. init(self: dolfin.cpp.mesh.Mesh, arg0: int) -> int\n",
      " |      \n",
      " |      3. init(self: dolfin.cpp.mesh.Mesh, arg0: int, arg1: int) -> None\n",
      " |  \n",
      " |  init_cell_orientations(...)\n",
      " |      init_cell_orientations(*args, **kwargs)\n",
      " |      Overloaded function.\n",
      " |      \n",
      " |      1. init_cell_orientations(self: dolfin.cpp.mesh.Mesh, arg0: dolfin.cpp.function.Expression) -> None\n",
      " |      \n",
      " |      2. init_cell_orientations(self: dolfin.cpp.mesh.Mesh, arg0: object) -> None\n",
      " |  \n",
      " |  init_global(...)\n",
      " |      init_global(self: dolfin.cpp.mesh.Mesh, arg0: int) -> None\n",
      " |  \n",
      " |  mpi_comm(...)\n",
      " |      mpi_comm(self: dolfin.cpp.mesh.Mesh) -> MPICommWrapper\n",
      " |  \n",
      " |  num_cells(...)\n",
      " |      num_cells(self: dolfin.cpp.mesh.Mesh) -> int\n",
      " |      \n",
      " |      Number of cells\n",
      " |  \n",
      " |  num_edges(...)\n",
      " |      num_edges(self: dolfin.cpp.mesh.Mesh) -> int\n",
      " |      \n",
      " |      Number of edges\n",
      " |  \n",
      " |  num_entities(...)\n",
      " |      num_entities(self: dolfin.cpp.mesh.Mesh, arg0: int) -> int\n",
      " |      \n",
      " |      Number of mesh entities\n",
      " |  \n",
      " |  num_entities_global(...)\n",
      " |      num_entities_global(self: dolfin.cpp.mesh.Mesh, arg0: int) -> int\n",
      " |  \n",
      " |  num_faces(...)\n",
      " |      num_faces(self: dolfin.cpp.mesh.Mesh) -> int\n",
      " |      \n",
      " |      Number of faces\n",
      " |  \n",
      " |  num_facets(...)\n",
      " |      num_facets(self: dolfin.cpp.mesh.Mesh) -> int\n",
      " |      \n",
      " |      Number of facets\n",
      " |  \n",
      " |  num_vertices(...)\n",
      " |      num_vertices(self: dolfin.cpp.mesh.Mesh) -> int\n",
      " |      \n",
      " |      Number of vertices\n",
      " |  \n",
      " |  order(...)\n",
      " |      order(self: dolfin.cpp.mesh.Mesh) -> None\n",
      " |  \n",
      " |  ordered(...)\n",
      " |      ordered(self: dolfin.cpp.mesh.Mesh) -> bool\n",
      " |  \n",
      " |  rmax(...)\n",
      " |      rmax(self: dolfin.cpp.mesh.Mesh) -> float\n",
      " |  \n",
      " |  rmin(...)\n",
      " |      rmin(self: dolfin.cpp.mesh.Mesh) -> float\n",
      " |  \n",
      " |  rotate(...)\n",
      " |      rotate(*args, **kwargs)\n",
      " |      Overloaded function.\n",
      " |      \n",
      " |      1. rotate(self: dolfin.cpp.mesh.Mesh, arg0: float, arg1: int, arg2: dolfin::Point) -> None\n",
      " |      \n",
      " |      2. rotate(self: dolfin.cpp.mesh.Mesh, angle: float, axis: int = 2) -> None\n",
      " |  \n",
      " |  scale(...)\n",
      " |      scale(self: dolfin.cpp.mesh.Mesh, arg0: float) -> None\n",
      " |  \n",
      " |  smooth(...)\n",
      " |      smooth(self: dolfin.cpp.mesh.Mesh, num_iterations: int = 1) -> None\n",
      " |  \n",
      " |  smooth_boundary(...)\n",
      " |      smooth_boundary(self: dolfin.cpp.mesh.Mesh, arg0: int, arg1: bool) -> None\n",
      " |  \n",
      " |  snap_boundary(...)\n",
      " |      snap_boundary(self: dolfin.cpp.mesh.Mesh, subdomain: dolfin::SubDomain, harmonic_smoothing: bool = True) -> None\n",
      " |  \n",
      " |  topology(...)\n",
      " |      topology(self: dolfin.cpp.mesh.Mesh) -> dolfin.cpp.mesh.MeshTopology\n",
      " |      \n",
      " |      Mesh topology\n",
      " |  \n",
      " |  translate(...)\n",
      " |      translate(self: dolfin.cpp.mesh.Mesh, arg0: dolfin::Point) -> None\n",
      " |  \n",
      " |  type(...)\n",
      " |      type(self: dolfin.cpp.mesh.Mesh) -> dolfin.cpp.mesh.CellType\n",
      " |  \n",
      " |  ufl_cell(self)\n",
      " |  \n",
      " |  ufl_coordinate_element(self)\n",
      " |      Return the finite element of the coordinate vector field of this\n",
      " |      domain.\n",
      " |  \n",
      " |  ufl_domain(self)\n",
      " |      Returns the ufl domain corresponding to the mesh.\n",
      " |  \n",
      " |  ufl_id(...)\n",
      " |      ufl_id(self: dolfin.cpp.mesh.Mesh) -> int\n",
      " |  \n",
      " |  ----------------------------------------------------------------------\n",
      " |  Methods inherited from dolfin.cpp.common.Variable:\n",
      " |  \n",
      " |  label(...)\n",
      " |      label(self: dolfin.cpp.common.Variable) -> str\n",
      " |  \n",
      " |  name(...)\n",
      " |      name(self: dolfin.cpp.common.Variable) -> str\n",
      " |  \n",
      " |  rename(...)\n",
      " |      rename(self: dolfin.cpp.common.Variable, arg0: str, arg1: str) -> None\n",
      " |  \n",
      " |  ----------------------------------------------------------------------\n",
      " |  Data descriptors inherited from dolfin.cpp.common.Variable:\n",
      " |  \n",
      " |  parameters\n",
      " |  \n",
      " |  ----------------------------------------------------------------------\n",
      " |  Methods inherited from pybind11_builtins.pybind11_object:\n",
      " |  \n",
      " |  __new__(*args, **kwargs) from pybind11_builtins.pybind11_type\n",
      " |      Create and return a new object.  See help(type) for accurate signature.\n",
      "\n"
     ]
    }
   ],
   "source": [
    "help(mesh)"
   ]
  },
  {
   "cell_type": "code",
   "execution_count": 85,
   "metadata": {},
   "outputs": [],
   "source": [
    "nodes = mesh.coordinates()"
   ]
  },
  {
   "cell_type": "code",
   "execution_count": 86,
   "metadata": {},
   "outputs": [
    {
     "data": {
      "text/plain": [
       "<matplotlib.collections.PathCollection at 0x7f8a92516588>"
      ]
     },
     "execution_count": 86,
     "metadata": {},
     "output_type": "execute_result"
    },
    {
     "data": {
      "image/png": "[encoded data removed]",
      "text/plain": [
       "<Figure size 432x288 with 1 Axes>"
      ]
     },
     "metadata": {
      "needs_background": "light"
     },
     "output_type": "display_data"
    }
   ],
   "source": [
    "plt.scatter(points[:,0], points[:,1])\n",
    "plt.scatter(nodes[:,0], nodes[:,1])"
   ]
  },
  {
   "cell_type": "code",
   "execution_count": 87,
   "metadata": {},
   "outputs": [
    {
     "name": "stdout",
     "output_type": "stream",
     "text": [
      "[<matplotlib.lines.Line2D object at 0x7f8a92608438>, <matplotlib.lines.Line2D object at 0x7f8a92608588>]\n"
     ]
    },
    {
     "data": {
      "image/png": "[encoded data removed]",
      "text/plain": [
       "<Figure size 432x288 with 1 Axes>"
      ]
     },
     "metadata": {
      "needs_background": "light"
     },
     "output_type": "display_data"
    }
   ],
   "source": [
    "print(plot(mesh))"
   ]
  },
  {
   "cell_type": "code",
   "execution_count": 88,
   "metadata": {},
   "outputs": [
    {
     "data": {
      "text/plain": [
       "array([[ 0.16666667,  0.16666667],\n",
       "       [ 0.33333333,  0.33333333],\n",
       "       [ 0.83333333,  0.16666667],\n",
       "       [ 0.66666667,  0.33333333],\n",
       "       [ 0.33333333,  0.66666667],\n",
       "       [ 0.16666667,  0.83333333],\n",
       "       [ 0.66666667,  0.66666667],\n",
       "       [ 0.83333333,  0.83333333]])"
      ]
     },
     "execution_count": 88,
     "metadata": {},
     "output_type": "execute_result"
    }
   ],
   "source": [
    "points"
   ]
  },
  {
   "cell_type": "code",
   "execution_count": 91,
   "metadata": {},
   "outputs": [],
   "source": [
    "density = Function(D)"
   ]
  },
  {
   "cell_type": "code",
   "execution_count": 93,
   "metadata": {},
   "outputs": [
    {
     "name": "stdout",
     "output_type": "stream",
     "text": [
      "Help on Function in module dolfin.function.function object:\n",
      "\n",
      "class Function(ufl.coefficient.Coefficient)\n",
      " |  UFL form argument type: Representation of a form coefficient.\n",
      " |  \n",
      " |  Method resolution order:\n",
      " |      Function\n",
      " |      ufl.coefficient.Coefficient\n",
      " |      ufl.core.terminal.FormArgument\n",
      " |      ufl.core.terminal.Terminal\n",
      " |      ufl.core.expr.Expr\n",
      " |      builtins.object\n",
      " |  \n",
      " |  Methods defined here:\n",
      " |  \n",
      " |  __call__(self, *args, **kwargs)\n",
      " |      Call self as a function.\n",
      " |  \n",
      " |  __float__(self)\n",
      " |      Try to evaluate as scalar and cast to float.\n",
      " |  \n",
      " |  __init__(self, *args, **kwargs)\n",
      " |      Initialize Function.\n",
      " |  \n",
      " |  __str__(self)\n",
      " |      Return a pretty print representation of it self.\n",
      " |  \n",
      " |  assign(self, rhs)\n",
      " |      Assign either a Function or linear combination of Functions.\n",
      " |      \n",
      " |      *Arguments*\n",
      " |          rhs (_Function_)\n",
      " |              A Function or a linear combination of Functions. If a linear\n",
      " |              combination is passed all Functions need to be in the same\n",
      " |              FunctionSpaces.\n",
      " |  \n",
      " |  compute_vertex_values(self, mesh=None)\n",
      " |  \n",
      " |  copy(self, deepcopy=False)\n",
      " |  \n",
      " |  cpp_object(self)\n",
      " |  \n",
      " |  eval(self, u, x)\n",
      " |  \n",
      " |  eval_cell(self, u, x, cell)\n",
      " |  \n",
      " |  extrapolate(self, u)\n",
      " |  \n",
      " |  function_space(self)\n",
      " |      Return the FunctionSpace\n",
      " |  \n",
      " |  get_allow_extrapolation(self)\n",
      " |  \n",
      " |  id(self)\n",
      " |  \n",
      " |  interpolate(self, u)\n",
      " |  \n",
      " |  leaf_node(self)\n",
      " |  \n",
      " |  name(self)\n",
      " |  \n",
      " |  rename(self, name, s)\n",
      " |  \n",
      " |  restrict(self, element, cell)\n",
      " |      Returns expansion coefficients of function restricted to local cell.\n",
      " |      \n",
      " |      *Arguments*\n",
      " |           element : cpp.fem.FiniteElement\n",
      " |               The element.\n",
      " |           cell : Cell\n",
      " |               The cell.\n",
      " |  \n",
      " |  root_node(self)\n",
      " |  \n",
      " |  set_allow_extrapolation(self, value)\n",
      " |  \n",
      " |  split(self, deepcopy=False)\n",
      " |      Extract any sub functions.\n",
      " |      \n",
      " |      A sub function can be extracted from a discrete function that\n",
      " |      is in a mixed, vector, or tensor FunctionSpace. The sub\n",
      " |      function resides in the subspace of the mixed space.\n",
      " |      \n",
      " |      *Arguments*\n",
      " |          deepcopy\n",
      " |              Copy sub function vector instead of sharing\n",
      " |  \n",
      " |  sub(self, i, deepcopy=False)\n",
      " |      Return a sub function.\n",
      " |      \n",
      " |      The sub functions are numbered from i = 0..N-1, where N is the\n",
      " |      total number of sub spaces.\n",
      " |      \n",
      " |      *Arguments*\n",
      " |          i : int\n",
      " |              The number of the sub function\n",
      " |  \n",
      " |  ufl_evaluate(self, x, component, derivatives)\n",
      " |      Function used by ufl to evaluate the Expression\n",
      " |  \n",
      " |  value_dimension(self, i)\n",
      " |  \n",
      " |  value_rank(self)\n",
      " |  \n",
      " |  value_shape(self)\n",
      " |  \n",
      " |  vector(self)\n",
      " |  \n",
      " |  ----------------------------------------------------------------------\n",
      " |  Methods inherited from ufl.coefficient.Coefficient:\n",
      " |  \n",
      " |  __eq__(self, other)\n",
      " |      Default comparison of terminals just compare repr strings.\n",
      " |  \n",
      " |  __hash__ = compute_expr_hash(expr)\n",
      " |      Compute hashes of *expr* and all its nodes efficiently, without using Python recursion.\n",
      " |  \n",
      " |  __repr__(self)\n",
      " |      Return string representation this object can be reconstructed from.\n",
      " |  \n",
      " |  count(self)\n",
      " |  \n",
      " |  is_cellwise_constant(self)\n",
      " |      Return whether this expression is spatially constant over each cell.\n",
      " |  \n",
      " |  ufl_domain(self)\n",
      " |      Shortcut to get the domain of the function space of this coefficient.\n",
      " |  \n",
      " |  ufl_domains(self)\n",
      " |      Return tuple of domains related to this terminal object.\n",
      " |  \n",
      " |  ufl_element(self)\n",
      " |      Shortcut to get the finite element of the function space of this coefficient.\n",
      " |  \n",
      " |  ufl_function_space(self)\n",
      " |      Get the function space of this coefficient.\n",
      " |  \n",
      " |  ----------------------------------------------------------------------\n",
      " |  Data descriptors inherited from ufl.coefficient.Coefficient:\n",
      " |  \n",
      " |  __dict__\n",
      " |      dictionary for instance variables (if defined)\n",
      " |  \n",
      " |  __weakref__\n",
      " |      list of weak references to the object (if defined)\n",
      " |  \n",
      " |  ufl_shape\n",
      " |      Return the associated UFL shape.\n",
      " |  \n",
      " |  ----------------------------------------------------------------------\n",
      " |  Methods inherited from ufl.core.terminal.Terminal:\n",
      " |  \n",
      " |  evaluate(self, x, mapping, component, index_values, derivatives=())\n",
      " |      Get *self* from *mapping* and return the component asked for.\n",
      " |  \n",
      " |  ----------------------------------------------------------------------\n",
      " |  Data and other attributes inherited from ufl.core.terminal.Terminal:\n",
      " |  \n",
      " |  ufl_free_indices = ()\n",
      " |  \n",
      " |  ufl_index_dimensions = ()\n",
      " |  \n",
      " |  ufl_operands = ()\n",
      " |  \n",
      " |  ----------------------------------------------------------------------\n",
      " |  Methods inherited from ufl.core.expr.Expr:\n",
      " |  \n",
      " |  __abs__ = _abs(self)\n",
      " |  \n",
      " |  __add__ = _add(self, o)\n",
      " |  \n",
      " |  __bool__(self)\n",
      " |      By default, all Expr are nonzero/False.\n",
      " |  \n",
      " |  __complex__(self)\n",
      " |      Try to evaluate as scalar and cast to complex.\n",
      " |  \n",
      " |  __del__(self)\n",
      " |  \n",
      " |  __div__ = _div(self, o)\n",
      " |  \n",
      " |  __floordiv__(self, other)\n",
      " |      UFL does not support integer division.\n",
      " |  \n",
      " |  __ge__ = _ge(left, right)\n",
      " |      UFL operator: A boolean expresion (left >= right) for use with conditional.\n",
      " |  \n",
      " |  __getitem__ = _getitem(self, component)\n",
      " |  \n",
      " |  __getnewargs__(self)\n",
      " |      The tuple returned here is passed to as args to cls.__new__(cls, *args).\n",
      " |      \n",
      " |      This implementation passes the operands, which is () for terminals.\n",
      " |      \n",
      " |      May be necessary to override if __new__ is implemented in a subclass.\n",
      " |  \n",
      " |  __gt__ = _gt(left, right)\n",
      " |      UFL operator: A boolean expresion (left > right) for use with conditional.\n",
      " |  \n",
      " |  __iter__(self)\n",
      " |      Iteration over vector expressions.\n",
      " |  \n",
      " |  __le__ = _le(left, right)\n",
      " |      UFL operator: A boolean expresion (left <= right) for use with conditional.\n",
      " |  \n",
      " |  __len__(self)\n",
      " |      Length of expression. Used for iteration over vector expressions.\n",
      " |  \n",
      " |  __lt__ = _lt(left, right)\n",
      " |      UFL operator: A boolean expresion (left < right) for use with conditional.\n",
      " |  \n",
      " |  __mul__ = _mul(self, o)\n",
      " |  \n",
      " |  __ne__ = _ne(self, other)\n",
      " |      # != is used at least by tests, possibly in code as well, and must\n",
      " |      # mean the opposite of ==, i.e. when evaluated as bool it must mean\n",
      " |      # 'not equal representation'.\n",
      " |  \n",
      " |  __neg__ = _neg(self)\n",
      " |      # TODO: Add Negated class for this? Might simplify reductions in Add.\n",
      " |  \n",
      " |  __nonzero__(self)\n",
      " |      By default, all Expr are nonzero/False.\n",
      " |  \n",
      " |  __pos__(self)\n",
      " |      Unary + is a no-op.\n",
      " |  \n",
      " |  __pow__ = _pow(self, o)\n",
      " |  \n",
      " |  __radd__ = _radd(self, o)\n",
      " |  \n",
      " |  __rdiv__ = _rdiv(self, o)\n",
      " |  \n",
      " |  __rmul__ = _rmul(self, o)\n",
      " |  \n",
      " |  __round__(self, n=None)\n",
      " |      Round to nearest integer or to nearest nth decimal.\n",
      " |  \n",
      " |  __rpow__ = _rpow(self, o)\n",
      " |  \n",
      " |  __rsub__ = _rsub(self, o)\n",
      " |  \n",
      " |  __rtruediv__ = _rdiv(self, o)\n",
      " |  \n",
      " |  __sub__ = _sub(self, o)\n",
      " |  \n",
      " |  __truediv__ = _div(self, o)\n",
      " |  \n",
      " |  __xor__ = _as_tensor(self, indices)\n",
      " |      UFL operator: A^indices := as_tensor(A, indices).\n",
      " |  \n",
      " |  dx = _dx(self, *ii)\n",
      " |      Return the partial derivative with respect to spatial variable number *ii*.\n",
      " |  \n",
      " |  geometric_dimension(self)\n",
      " |      Return the geometric dimension this expression lives in.\n",
      " |  \n",
      " |  ----------------------------------------------------------------------\n",
      " |  Static methods inherited from ufl.core.expr.Expr:\n",
      " |  \n",
      " |  ufl_disable_profiling()\n",
      " |      Turn off the object counting mechanism. Return object init and del counts.\n",
      " |  \n",
      " |  ufl_enable_profiling()\n",
      " |      Turn on the object counting mechanism and reset counts to zero.\n",
      " |  \n",
      " |  ----------------------------------------------------------------------\n",
      " |  Data descriptors inherited from ufl.core.expr.Expr:\n",
      " |  \n",
      " |  T\n",
      " |      Transpose a rank-2 tensor expression. For more general transpose\n",
      " |      operations of higher order tensor expressions, use indexing and Tensor.\n",
      "\n"
     ]
    }
   ],
   "source": [
    "help(density)"
   ]
  },
  {
   "cell_type": "code",
   "execution_count": 94,
   "metadata": {},
   "outputs": [
    {
     "data": {
      "text/plain": [
       "array([ 0.,  0.,  0.,  0.,  0.,  0.,  0.,  0.,  0.])"
      ]
     },
     "execution_count": 94,
     "metadata": {},
     "output_type": "execute_result"
    }
   ],
   "source": [
    "density.compute_vertex_values()"
   ]
  },
  {
   "cell_type": "code",
   "execution_count": 99,
   "metadata": {},
   "outputs": [
    {
     "ename": "AttributeError",
     "evalue": "'Function' object has no attribute 'set_local'",
     "output_type": "error",
     "traceback": [
      "\u001b[0;31m---------------------------------------------------------------------------\u001b[0m",
      "\u001b[0;31mAttributeError\u001b[0m                            Traceback (most recent call last)",
      "\u001b[0;32m<ipython-input-99-90bfce705d05>\u001b[0m in \u001b[0;36m<module>\u001b[0;34m\u001b[0m\n\u001b[0;32m----> 1\u001b[0;31m \u001b[0mdensity\u001b[0m\u001b[0;34m.\u001b[0m\u001b[0mset_local\u001b[0m\u001b[0;34m(\u001b[0m\u001b[0;34m[\u001b[0m \u001b[0;36m0.\u001b[0m\u001b[0;34m,\u001b[0m  \u001b[0;36m0.\u001b[0m\u001b[0;34m,\u001b[0m  \u001b[0;36m0.\u001b[0m\u001b[0;34m,\u001b[0m  \u001b[0;36m0.\u001b[0m\u001b[0;34m,\u001b[0m  \u001b[0;36m0.\u001b[0m\u001b[0;34m,\u001b[0m  \u001b[0;36m0.\u001b[0m\u001b[0;34m,\u001b[0m  \u001b[0;36m0.\u001b[0m\u001b[0;34m,\u001b[0m  \u001b[0;36m0.\u001b[0m\u001b[0;34m,\u001b[0m  \u001b[0;36m0.\u001b[0m\u001b[0;34m]\u001b[0m\u001b[0;34m)\u001b[0m\u001b[0;34m\u001b[0m\u001b[0;34m\u001b[0m\u001b[0m\n\u001b[0m",
      "\u001b[0;31mAttributeError\u001b[0m: 'Function' object has no attribute 'set_local'"
     ]
    }
   ],
   "source": [
    "density.set_local([ 0.,  0.,  0.,  0.,  0.,  0.,  0.,  0.,  0.])"
   ]
  },
  {
   "cell_type": "code",
   "execution_count": 100,
   "metadata": {},
   "outputs": [
    {
     "ename": "TypeError",
     "evalue": "Expected a FunctionSpace or a Function as argument 1",
     "output_type": "error",
     "traceback": [
      "\u001b[0;31m---------------------------------------------------------------------------\u001b[0m",
      "\u001b[0;31mTypeError\u001b[0m                                 Traceback (most recent call last)",
      "\u001b[0;32m<ipython-input-100-d63eb11f668f>\u001b[0m in \u001b[0;36m<module>\u001b[0;34m\u001b[0m\n\u001b[0;32m----> 1\u001b[0;31m \u001b[0mFunction\u001b[0m\u001b[0;34m(\u001b[0m\u001b[0;34m[\u001b[0m \u001b[0;36m0.\u001b[0m\u001b[0;34m,\u001b[0m  \u001b[0;36m0.\u001b[0m\u001b[0;34m,\u001b[0m  \u001b[0;36m0.\u001b[0m\u001b[0;34m,\u001b[0m  \u001b[0;36m0.\u001b[0m\u001b[0;34m,\u001b[0m  \u001b[0;36m0.\u001b[0m\u001b[0;34m,\u001b[0m  \u001b[0;36m0.\u001b[0m\u001b[0;34m,\u001b[0m  \u001b[0;36m0.\u001b[0m\u001b[0;34m,\u001b[0m  \u001b[0;36m0.\u001b[0m\u001b[0;34m,\u001b[0m  \u001b[0;36m0.\u001b[0m\u001b[0;34m]\u001b[0m\u001b[0;34m)\u001b[0m\u001b[0;34m\u001b[0m\u001b[0;34m\u001b[0m\u001b[0m\n\u001b[0m",
      "\u001b[0;32m/usr/local/lib/python3.6/dist-packages/dolfin/function/function.py\u001b[0m in \u001b[0;36m__init__\u001b[0;34m(self, *args, **kwargs)\u001b[0m\n\u001b[1;32m    232\u001b[0m \u001b[0;34m\u001b[0m\u001b[0m\n\u001b[1;32m    233\u001b[0m         \u001b[0;32melse\u001b[0m\u001b[0;34m:\u001b[0m\u001b[0;34m\u001b[0m\u001b[0;34m\u001b[0m\u001b[0m\n\u001b[0;32m--> 234\u001b[0;31m             \u001b[0;32mraise\u001b[0m \u001b[0mTypeError\u001b[0m\u001b[0;34m(\u001b[0m\u001b[0;34m\"Expected a FunctionSpace or a Function as argument 1\"\u001b[0m\u001b[0;34m)\u001b[0m\u001b[0;34m\u001b[0m\u001b[0;34m\u001b[0m\u001b[0m\n\u001b[0m\u001b[1;32m    235\u001b[0m \u001b[0;34m\u001b[0m\u001b[0m\n\u001b[1;32m    236\u001b[0m         \u001b[0;31m# Set name as given or automatic\u001b[0m\u001b[0;34m\u001b[0m\u001b[0;34m\u001b[0m\u001b[0;34m\u001b[0m\u001b[0m\n",
      "\u001b[0;31mTypeError\u001b[0m: Expected a FunctionSpace or a Function as argument 1"
     ]
    }
   ],
   "source": [
    "Function([ 0.,  0.,  0.,  0.,  0.,  0.,  0.,  0.,  0.])"
   ]
  },
  {
   "cell_type": "code",
   "execution_count": null,
   "metadata": {},
   "outputs": [],
   "source": []
  }
 ],
 "metadata": {
  "kernelspec": {
   "display_name": "Python 3",
   "language": "python",
   "name": "python3"
  },
  "language_info": {
   "codemirror_mode": {
    "name": "ipython",
    "version": 3
   },
   "file_extension": ".py",
   "mimetype": "text/x-python",
   "name": "python",
   "nbconvert_exporter": "python",
   "pygments_lexer": "ipython3",
   "version": "3.6.9"
  }
 },
 "nbformat": 4,
 "nbformat_minor": 4
}
