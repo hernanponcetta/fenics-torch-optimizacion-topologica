{
 "cells": [
  {
   "cell_type": "code",
   "execution_count": 1,
   "metadata": {},
   "outputs": [],
   "source": [
    "import numpy as np\n",
    "import matplotlib.pyplot as plt"
   ]
  },
  {
   "cell_type": "code",
   "execution_count": 5,
   "metadata": {
    "scrolled": true
   },
   "outputs": [
    {
     "name": "stdout",
     "output_type": "stream",
     "text": [
      "[[ 0.49450549  0.17857143 -0.3021978  -0.01373626 -0.24725275 -0.17857143\n",
      "   0.05494505  0.01373626]\n",
      " [ 0.17857143  0.49450549  0.01373626  0.05494505 -0.17857143 -0.24725275\n",
      "  -0.01373626 -0.3021978 ]\n",
      " [-0.3021978   0.01373626  0.49450549 -0.17857143  0.05494505 -0.01373626\n",
      "  -0.24725275  0.17857143]\n",
      " [-0.01373626  0.05494505 -0.17857143  0.49450549  0.01373626 -0.3021978\n",
      "   0.17857143 -0.24725275]\n",
      " [-0.24725275 -0.17857143  0.05494505  0.01373626  0.49450549  0.17857143\n",
      "  -0.3021978  -0.01373626]\n",
      " [-0.17857143 -0.24725275 -0.01373626 -0.3021978   0.17857143  0.49450549\n",
      "   0.01373626  0.05494505]\n",
      " [ 0.05494505 -0.01373626 -0.24725275  0.17857143 -0.3021978   0.01373626\n",
      "   0.49450549 -0.17857143]\n",
      " [ 0.01373626 -0.3021978   0.17857143 -0.24725275 -0.01373626  0.05494505\n",
      "  -0.17857143  0.49450549]]\n"
     ]
    }
   ],
   "source": [
    "'''\n",
    "La función getDMatrix retorna la matrix de rigidez para cada elemento.\n",
    "Al ser todos los elementos iguales solo se requiere un tipo de matriz.\n",
    "\n",
    "Los otros parámetros son:\n",
    "E: el módulo de Young del material\n",
    "nu: el número de Poisson\n",
    "'''\n",
    "\n",
    "def getDMatrix():\n",
    "        E=1\n",
    "        nu=0.3\n",
    "        \n",
    "        k=np.array([1/2-nu/6,1/8+nu/8,-1/4-nu/12,-1/8+3*nu/8,-1/4+nu/12,-1/8-nu/8,nu/6,1/8-3*nu/8])\n",
    "        \n",
    "        KE = E/(1-nu**2)*np.array([ \n",
    "        [k[0], k[1], k[2], k[3], k[4], k[5], k[6], k[7]],\n",
    "        [k[1], k[0], k[7], k[6], k[5], k[4], k[3], k[2]],\n",
    "        [k[2], k[7], k[0], k[5], k[6], k[3], k[4], k[1]],\n",
    "        [k[3], k[6], k[5], k[0], k[7], k[2], k[1], k[4]],\n",
    "        [k[4], k[5], k[6], k[7], k[0], k[1], k[2], k[3]],\n",
    "        [k[5], k[4], k[3], k[2], k[1], k[0], k[7], k[6]],\n",
    "        [k[6], k[3], k[4], k[1], k[2], k[7], k[0], k[5]],\n",
    "        [k[7], k[2], k[1], k[4], k[3], k[6], k[5], k[0]], \n",
    "        ])\n",
    "        \n",
    "        return (KE)\n",
    "    \n",
    "print(getDMatrix())"
   ]
  },
  {
   "cell_type": "code",
   "execution_count": 4,
   "metadata": {},
   "outputs": [
    {
     "name": "stdout",
     "output_type": "stream",
     "text": [
      "20\n"
     ]
    }
   ],
   "source": [
    "def getEdof():\n",
    "    nelx = 4\n",
    "    nely = 3\n",
    "    \n",
    "    map()"
   ]
  },
  {
   "cell_type": "code",
   "execution_count": null,
   "metadata": {},
   "outputs": [],
   "source": [
    "edofMat = np.zeros((nelx*nely,8),dtype=int)\n",
    "print(edofMat)"
   ]
  },
  {
   "cell_type": "code",
   "execution_count": null,
   "metadata": {},
   "outputs": [],
   "source": []
  }
 ],
 "metadata": {
  "kernelspec": {
   "display_name": "Python 3",
   "language": "python",
   "name": "python3"
  },
  "language_info": {
   "codemirror_mode": {
    "name": "ipython",
    "version": 3
   },
   "file_extension": ".py",
   "mimetype": "text/x-python",
   "name": "python",
   "nbconvert_exporter": "python",
   "pygments_lexer": "ipython3",
   "version": "3.6.9"
  }
 },
 "nbformat": 4,
 "nbformat_minor": 4
}
