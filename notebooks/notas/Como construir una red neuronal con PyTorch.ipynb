{
 "cells": [
  {
   "cell_type": "markdown",
   "metadata": {},
   "source": [
    "# CONSTRUIR UNA RED NEURONAL"
   ]
  },
  {
   "cell_type": "markdown",
   "metadata": {},
   "source": [
    "Las *redes neuronales* utilizan capas/módulos para realizar operaciones con datos. `torch.nn` provee todo los bloques que se necesitan para construir una *red neuronal*. Todos los modulos de **PyTorch** son subclases de `nn.Module`. Un *red neuronal* es un módulo formado por otro módulos (o capas). Esta arquitectura anidada permite crear arquitecturas complejas en forma simple."
   ]
  },
  {
   "cell_type": "code",
   "execution_count": 1,
   "metadata": {},
   "outputs": [],
   "source": [
    "import os\n",
    "import torch\n",
    "from torch import nn\n",
    "from torch.utils.data import DataLoader\n",
    "from torchvision import datasets, transforms"
   ]
  },
  {
   "cell_type": "markdown",
   "metadata": {},
   "source": [
    "Es preferible utilizar el GPU para entrenar un modelo. El siguiente comando confirma si existe un GPU disponible y si no utiliza el CPU."
   ]
  },
  {
   "cell_type": "code",
   "execution_count": 2,
   "metadata": {},
   "outputs": [
    {
     "name": "stdout",
     "output_type": "stream",
     "text": [
      "Using cpu device\n"
     ]
    }
   ],
   "source": [
    "device = 'cuda' if torch.cuda.is_available() else 'cpu'\n",
    "print('Using {} device'.format(device))"
   ]
  },
  {
   "cell_type": "markdown",
   "metadata": {},
   "source": [
    "## Definir la clase"
   ]
  },
  {
   "cell_type": "markdown",
   "metadata": {},
   "source": [
    "Se denfine *una red* neuronal declarando una subclase de `nn.module` e inicializando las capas de la *red neuronal* con el método `__init__`. Todas las subclases de `nn.Module` implementan las operaciones en los datos de entrada en el metodo `forward`."
   ]
  },
  {
   "cell_type": "code",
   "execution_count": 3,
   "metadata": {},
   "outputs": [],
   "source": [
    "class NeuralNetwork(nn.Module):\n",
    "    def __init__(self):\n",
    "        super(NeuralNetwork, self).__init__()\n",
    "        self.flatten = nn.Flatten()\n",
    "        self.linear_relu_stack = nn.Sequential(\n",
    "            nn.Linear(28*28, 512),\n",
    "            nn.ReLU(),\n",
    "            nn.Linear(512, 512),\n",
    "            nn.ReLU(),\n",
    "            nn.Linear(512, 10),\n",
    "            nn.ReLU()\n",
    "        )\n",
    "        \n",
    "    def forward(self, x):\n",
    "        x = self.flatten(x)\n",
    "        logits = self.linear_relu_stack(x)\n",
    "        return logits"
   ]
  },
  {
   "cell_type": "markdown",
   "metadata": {},
   "source": [
    "Creamos un instancia de `NeuralNetwork`, la movemos a `device`, e imprimimos su extructura."
   ]
  },
  {
   "cell_type": "code",
   "execution_count": 4,
   "metadata": {},
   "outputs": [
    {
     "name": "stdout",
     "output_type": "stream",
     "text": [
      "NeuralNetwork(\n",
      "  (flatten): Flatten(start_dim=1, end_dim=-1)\n",
      "  (linear_relu_stack): Sequential(\n",
      "    (0): Linear(in_features=784, out_features=512, bias=True)\n",
      "    (1): ReLU()\n",
      "    (2): Linear(in_features=512, out_features=512, bias=True)\n",
      "    (3): ReLU()\n",
      "    (4): Linear(in_features=512, out_features=10, bias=True)\n",
      "    (5): ReLU()\n",
      "  )\n",
      ")\n"
     ]
    }
   ],
   "source": [
    "model = NeuralNetwork().to(device)\n",
    "print(model)"
   ]
  },
  {
   "cell_type": "markdown",
   "metadata": {},
   "source": [
    "Para utilizar `model`, le pasamos los datos de entrada. Esto ejecuta la función `forward` del modelo, junto con otras operaciones de fondo. No hay que llamar al método `model.foward()` en forma directa!\n",
    "\n",
    "Al ejecutar `model` retorna un tensor de 10 dimensiones con los valores predichos para cada clase. Obtenemos las probabilidades de cada predicción pasandolas por una instancia de `nn.softmax`."
   ]
  },
  {
   "cell_type": "code",
   "execution_count": 5,
   "metadata": {},
   "outputs": [
    {
     "name": "stdout",
     "output_type": "stream",
     "text": [
      "Predicted class: tensor([2])\n"
     ]
    }
   ],
   "source": [
    "X = torch.rand(1, 28, 28, device=device)\n",
    "logits = model(X)\n",
    "pred_probab = nn.Softmax(dim=1)(logits)\n",
    "y_pred = pred_probab.argmax(1)\n",
    "print(f\"Predicted class: {y_pred}\")"
   ]
  },
  {
   "cell_type": "markdown",
   "metadata": {},
   "source": [
    "## Las capas del modelo"
   ]
  },
  {
   "cell_type": "markdown",
   "metadata": {},
   "source": [
    "Para ilustrarlo vamos a utilizar un minibatch de 3 imagenes de tamaño 28x28 y ver que sucede cuando pasa por la red."
   ]
  },
  {
   "cell_type": "code",
   "execution_count": 8,
   "metadata": {},
   "outputs": [
    {
     "name": "stdout",
     "output_type": "stream",
     "text": [
      "torch.Size([3, 28, 28])\n"
     ]
    }
   ],
   "source": [
    "input_image = torch.rand(3, 28, 28)\n",
    "print(input_image.size())"
   ]
  },
  {
   "cell_type": "markdown",
   "metadata": {},
   "source": [
    "### nn.Flatten"
   ]
  },
  {
   "cell_type": "markdown",
   "metadata": {},
   "source": [
    "Inicializamos la capa `nn.Flatten` para convertir cada imagen de 2D 28x28 a un array continuo de 784 pixeles."
   ]
  },
  {
   "cell_type": "code",
   "execution_count": 9,
   "metadata": {},
   "outputs": [
    {
     "name": "stdout",
     "output_type": "stream",
     "text": [
      "torch.Size([3, 784])\n"
     ]
    }
   ],
   "source": [
    "flatten = nn.Flatten()\n",
    "flat_image = flatten(input_image)\n",
    "print(flat_image.size())"
   ]
  },
  {
   "cell_type": "code",
   "execution_count": 10,
   "metadata": {},
   "outputs": [
    {
     "name": "stdout",
     "output_type": "stream",
     "text": [
      "torch.Size([3, 20])\n"
     ]
    }
   ],
   "source": [
    "layer1 = nn.Linear(in_features=28*28, out_features=20)\n",
    "hidden1 = layer1(flat_image)\n",
    "print(hidden1.size())"
   ]
  },
  {
   "attachments": {
    "Python_Pytorch_nn_Linear_i2_o1_01.png": {
     "image/png": "[encoded data removed]"
    }
   },
   "cell_type": "markdown",
   "metadata": {},
   "source": [
    "En la siguiente imagen se ve un ejemplo de una capa de red neuronal creada con `nn.Linear(2, 1)`\n",
    "\n",
    "\n",
    "\n",
    "![Python_Pytorch_nn_Linear_i2_o1_01.png](attachment:Python_Pytorch_nn_Linear_i2_o1_01.png)"
   ]
  },
  {
   "cell_type": "markdown",
   "metadata": {},
   "source": [
    "### nn.ReLU"
   ]
  },
  {
   "cell_type": "markdown",
   "metadata": {},
   "source": [
    "Las funciones de activación no lineales son las que crean los mappeos complejos entre las entradas del modelo y las salidas. Se aplican luego de las tranformación lineal para introducir \"no linearidad\"."
   ]
  },
  {
   "cell_type": "code",
   "execution_count": 11,
   "metadata": {},
   "outputs": [
    {
     "name": "stdout",
     "output_type": "stream",
     "text": [
      "Before ReLU: tensor([[ 0.4035, -0.0317,  0.2024,  0.7635,  0.3066,  0.3425, -0.2890,  0.4507,\n",
      "          0.2533, -0.2514,  0.1616, -0.2055, -0.4085, -0.2615, -0.2638,  0.6675,\n",
      "         -0.0857,  0.2037,  0.4460, -0.1919],\n",
      "        [ 0.3878,  0.1168,  0.4852,  0.3985,  0.3755,  0.1030, -0.4621,  0.1457,\n",
      "          0.3751, -0.2191,  0.1133, -0.0912,  0.3227, -0.4854, -0.1312,  0.3717,\n",
      "         -0.1870,  0.2211,  0.4656,  0.0852],\n",
      "        [ 0.4146,  0.3923,  0.3215,  0.4586,  0.2428,  0.3131, -0.3706,  0.4674,\n",
      "          0.1113, -0.1008,  0.0722, -0.0787, -0.1537, -0.2402, -0.1094,  0.5260,\n",
      "          0.3706,  0.2243,  0.3442, -0.1487]], grad_fn=<AddmmBackward>)\n",
      "\n",
      "\n",
      "After ReLU: tensor([[0.4035, 0.0000, 0.2024, 0.7635, 0.3066, 0.3425, 0.0000, 0.4507, 0.2533,\n",
      "         0.0000, 0.1616, 0.0000, 0.0000, 0.0000, 0.0000, 0.6675, 0.0000, 0.2037,\n",
      "         0.4460, 0.0000],\n",
      "        [0.3878, 0.1168, 0.4852, 0.3985, 0.3755, 0.1030, 0.0000, 0.1457, 0.3751,\n",
      "         0.0000, 0.1133, 0.0000, 0.3227, 0.0000, 0.0000, 0.3717, 0.0000, 0.2211,\n",
      "         0.4656, 0.0852],\n",
      "        [0.4146, 0.3923, 0.3215, 0.4586, 0.2428, 0.3131, 0.0000, 0.4674, 0.1113,\n",
      "         0.0000, 0.0722, 0.0000, 0.0000, 0.0000, 0.0000, 0.5260, 0.3706, 0.2243,\n",
      "         0.3442, 0.0000]], grad_fn=<ReluBackward0>)\n",
      "\n",
      "\n"
     ]
    }
   ],
   "source": [
    "print(f\"Before ReLU: {hidden1}\\n\\n\")\n",
    "hidden1 = nn.ReLU()(hidden1)\n",
    "print(f\"After ReLU: {hidden1}\\n\\n\")"
   ]
  },
  {
   "attachments": {
    "0_MRLA32MqDoK5J-WI.png": {
     "image/png": "[encoded data removed]"
    }
   },
   "cell_type": "markdown",
   "metadata": {},
   "source": [
    "ReLU es un acrónimo de **Rectified Linear Unit**:\n",
    "\n",
    "$$ReLU(x) = (x)^+ = max(0, x)$$\n",
    "\n",
    "Dada una antrada x, ReLU toma el valor máximo entre 0 y x.\n",
    "\n",
    "![0_MRLA32MqDoK5J-WI.png](attachment:0_MRLA32MqDoK5J-WI.png)"
   ]
  },
  {
   "cell_type": "markdown",
   "metadata": {},
   "source": [
    "### nn.Sequencial"
   ]
  },
  {
   "cell_type": "markdown",
   "metadata": {},
   "source": [
    "`nn.Sequencial` es un contenedor ordenado de modulos. Los datos se pasan en el mismo orden al que fueron definidos."
   ]
  },
  {
   "cell_type": "code",
   "execution_count": 13,
   "metadata": {},
   "outputs": [],
   "source": [
    "seq_modules = nn.Sequential(\n",
    "    flatten,\n",
    "    layer1,\n",
    "    nn.ReLU(),\n",
    "    nn.Linear(20, 10)\n",
    ")\n",
    "\n",
    "input_image = torch.rand(3, 28, 28)\n",
    "logits = seq_modules(input_image)"
   ]
  },
  {
   "cell_type": "markdown",
   "metadata": {},
   "source": [
    "### nn.Softmax"
   ]
  },
  {
   "cell_type": "markdown",
   "metadata": {},
   "source": [
    "La última capa lineal de la *red neuronal* retorna *logits* valores en el rango [-infty, infty] los que son pasados al módulo `nn.Softmax`. Los *logits* son escalados a valores entre [0, 1] representando la probabilidades predichas para cada clase. El parámero `dim` indica la dimension sobre la cual los valores deben sumar 1."
   ]
  },
  {
   "cell_type": "code",
   "execution_count": 15,
   "metadata": {},
   "outputs": [],
   "source": [
    "softmax = nn.Softmax(dim=1)\n",
    "pred_probab = softmax(logits)"
   ]
  },
  {
   "cell_type": "markdown",
   "metadata": {},
   "source": [
    "### Parámetros del modelo"
   ]
  },
  {
   "cell_type": "markdown",
   "metadata": {},
   "source": [
    "Muchas de las capas dentro del modelo se encuentra *parametrizadas*, por ejemplo los pesos y sesgos que son optimizados durante el proceso de entrenamiento. Al crear una subclase de `nn.Module` automaticamente todos estos campos son guardados dentro del modelo y son accesibles a través de los métodos `parameters()` o `named_parameters`.\n",
    "\n",
    "En el siguiente ejemplo iteramos sobre los parametros e imprimimos su tamaño y sus valores."
   ]
  },
  {
   "cell_type": "code",
   "execution_count": null,
   "metadata": {},
   "outputs": [],
   "source": [
    "print(\"Model structure: \", model, \"\\n\\n\")\n",
    "\n",
    "for name, param in model.named_parameters():\n",
    "    print(f\")"
   ]
  }
 ],
 "metadata": {
  "kernelspec": {
   "display_name": "Python 3",
   "language": "python",
   "name": "python3"
  },
  "language_info": {
   "codemirror_mode": {
    "name": "ipython",
    "version": 3
   },
   "file_extension": ".py",
   "mimetype": "text/x-python",
   "name": "python",
   "nbconvert_exporter": "python",
   "pygments_lexer": "ipython3",
   "version": "3.6.9"
  }
 },
 "nbformat": 4,
 "nbformat_minor": 4
}
