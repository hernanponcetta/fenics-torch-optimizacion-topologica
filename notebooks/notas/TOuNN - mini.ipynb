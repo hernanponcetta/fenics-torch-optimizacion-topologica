{
 "cells": [
  {
   "cell_type": "code",
   "execution_count": 4,
   "metadata": {},
   "outputs": [],
   "source": [
    "import torch\n",
    "import torch.nn as nn"
   ]
  },
  {
   "cell_type": "code",
   "execution_count": 5,
   "metadata": {},
   "outputs": [],
   "source": [
    "device = 'cuda' if torch.cuda.is_available() else 'cpu'"
   ]
  },
  {
   "cell_type": "code",
   "execution_count": 6,
   "metadata": {},
   "outputs": [
    {
     "data": {
      "text/plain": [
       "<torch._C.Generator at 0x7f7272bfb0a8>"
      ]
     },
     "execution_count": 6,
     "metadata": {},
     "output_type": "execute_result"
    }
   ],
   "source": [
    "torch.manual_seed(42)"
   ]
  },
  {
   "cell_type": "code",
   "execution_count": 7,
   "metadata": {},
   "outputs": [],
   "source": [
    "class NeuralNetwork(nn.Module):\n",
    "    input_dim = 2\n",
    "    output_dim = 2\n",
    "    \n",
    "    def __init__(self, num_layers, neurons_per_layer):\n",
    "        \n",
    "        super().__init__()\n",
    "        self.layers = nn.ModuleList()\n",
    "        current_dim = self.input_dim\n",
    "        \n",
    "        for layer in range(num_layers):\n",
    "            l = nn.Linear(current_dim, neurons_per_layer)\n",
    "            nn.init.xavier_normal_(l.weight)\n",
    "            nn.init.zeros_(l.bias)\n",
    "            self.layers.append(l)\n",
    "            current_dim = neurons_per_layer\n",
    "        \n",
    "        self.layers.append(nn.Linear(current_dim, self.output_dim))\n",
    "        \n",
    "        self.bnLayer = nn.ModuleList()\n",
    "        for layer in range(num_layers):\n",
    "            self.bnLayer.append(nn.BatchNorm1d(neurons_per_layer))\n",
    "            \n",
    "    def forward(self, x, fixedIdx):\n",
    "        m = nn.ReLU6()\n",
    "        ctr = 0\n",
    "        \n",
    "        xv = x[:, 0]\n",
    "        yv = x[:, 1]\n",
    "        \n",
    "        x = torch.transpose(torch.stack((xv, yv)), 0, 1)\n",
    "        \n",
    "        for layer in self.layers[:-1]:\n",
    "            x = m(self.bnLayer[crt](layer(x)))\n",
    "            ctr += 1\n",
    "        \n",
    "        out = 0.01 + torch.softmax(self.layers[-1](x), dim = 1)\n",
    "        rho = out[:,0].view(-1);\n",
    "\n",
    "        rho = (1-fixedIdx)*rho + fixedIdx*(rho + torch.abs(1-rho))"
   ]
  },
  {
   "cell_type": "code",
   "execution_count": 10,
   "metadata": {},
   "outputs": [
    {
     "name": "stdout",
     "output_type": "stream",
     "text": [
      "NeuralNetwork(\n",
      "  (layers): ModuleList(\n",
      "    (0): Linear(in_features=2, out_features=20, bias=True)\n",
      "    (1): Linear(in_features=20, out_features=20, bias=True)\n",
      "    (2): Linear(in_features=20, out_features=20, bias=True)\n",
      "    (3): Linear(in_features=20, out_features=20, bias=True)\n",
      "    (4): Linear(in_features=20, out_features=20, bias=True)\n",
      "    (5): Linear(in_features=20, out_features=2, bias=True)\n",
      "  )\n",
      "  (bnLayer): ModuleList(\n",
      "    (0): BatchNorm1d(20, eps=1e-05, momentum=0.1, affine=True, track_running_stats=True)\n",
      "    (1): BatchNorm1d(20, eps=1e-05, momentum=0.1, affine=True, track_running_stats=True)\n",
      "    (2): BatchNorm1d(20, eps=1e-05, momentum=0.1, affine=True, track_running_stats=True)\n",
      "    (3): BatchNorm1d(20, eps=1e-05, momentum=0.1, affine=True, track_running_stats=True)\n",
      "    (4): BatchNorm1d(20, eps=1e-05, momentum=0.1, affine=True, track_running_stats=True)\n",
      "  )\n",
      ")\n"
     ]
    }
   ],
   "source": [
    "neural_network = NeuralNetwork(5, 20)\n",
    "print(neural_network)"
   ]
  },
  {
   "cell_type": "code",
   "execution_count": 26,
   "metadata": {},
   "outputs": [],
   "source": [
    "class NeuralNetworkMn(nn.Module):\n",
    "\n",
    "    def __init__(self):\n",
    "        super().__init__()\n",
    "        \n",
    "        self.layers = nn.Sequential(\n",
    "            #nn.Flatten(),\n",
    "            nn.Linear(2, 20),\n",
    "            nn.BatchNorm1d(20),\n",
    "            nn.ReLU(),\n",
    "            nn.Linear(20, 20),\n",
    "            nn.BatchNorm1d(20),\n",
    "            nn.ReLU(),\n",
    "            nn.Linear(20, 20),\n",
    "            nn.BatchNorm1d(20),\n",
    "            nn.ReLU(),\n",
    "            nn.Linear(20, 20),\n",
    "            nn.BatchNorm1d(20),\n",
    "            nn.ReLU(),\n",
    "            nn.Linear(20, 20),\n",
    "            nn.BatchNorm1d(20),\n",
    "            nn.ReLU(),\n",
    "            nn.Linear(20, 2),\n",
    "            nn.Softmax(dim=1)\n",
    "        )\n",
    "        \n",
    "    def forward(self, x, fixedIdx):\n",
    "        \n",
    "        xv = x[:, 0]\n",
    "        yv = x[:, 1]\n",
    "        \n",
    "        x = torch.transpose(torch.stack((xv, yv)), 0, 1)\n",
    "        \n",
    "        out = 0.01 + self.layers(x)\n",
    "        rho = out[:,0].view(-1)\n",
    "        \n",
    "        return (1-fixedIdx)*rho + fixedIdx*(rho + torch.abs(1-rho))\n",
    "        \n",
    "        "
   ]
  },
  {
   "cell_type": "code",
   "execution_count": 27,
   "metadata": {},
   "outputs": [
    {
     "name": "stdout",
     "output_type": "stream",
     "text": [
      "NeuralNetworkMn(\n",
      "  (layers): Sequential(\n",
      "    (0): Linear(in_features=2, out_features=20, bias=True)\n",
      "    (1): BatchNorm1d(20, eps=1e-05, momentum=0.1, affine=True, track_running_stats=True)\n",
      "    (2): ReLU()\n",
      "    (3): Linear(in_features=20, out_features=20, bias=True)\n",
      "    (4): BatchNorm1d(20, eps=1e-05, momentum=0.1, affine=True, track_running_stats=True)\n",
      "    (5): ReLU()\n",
      "    (6): Linear(in_features=20, out_features=20, bias=True)\n",
      "    (7): BatchNorm1d(20, eps=1e-05, momentum=0.1, affine=True, track_running_stats=True)\n",
      "    (8): ReLU()\n",
      "    (9): Linear(in_features=20, out_features=20, bias=True)\n",
      "    (10): BatchNorm1d(20, eps=1e-05, momentum=0.1, affine=True, track_running_stats=True)\n",
      "    (11): ReLU()\n",
      "    (12): Linear(in_features=20, out_features=20, bias=True)\n",
      "    (13): BatchNorm1d(20, eps=1e-05, momentum=0.1, affine=True, track_running_stats=True)\n",
      "    (14): ReLU()\n",
      "    (15): Linear(in_features=20, out_features=2, bias=True)\n",
      "    (16): Softmax(dim=1)\n",
      "  )\n",
      ")\n"
     ]
    }
   ],
   "source": [
    "nn_mn = NeuralNetworkMn()\n",
    "print(nn_mn)"
   ]
  },
  {
   "cell_type": "code",
   "execution_count": null,
   "metadata": {},
   "outputs": [],
   "source": []
  }
 ],
 "metadata": {
  "kernelspec": {
   "display_name": "Python 3",
   "language": "python",
   "name": "python3"
  },
  "language_info": {
   "codemirror_mode": {
    "name": "ipython",
    "version": 3
   },
   "file_extension": ".py",
   "mimetype": "text/x-python",
   "name": "python",
   "nbconvert_exporter": "python",
   "pygments_lexer": "ipython3",
   "version": "3.6.9"
  }
 },
 "nbformat": 4,
 "nbformat_minor": 4
}
